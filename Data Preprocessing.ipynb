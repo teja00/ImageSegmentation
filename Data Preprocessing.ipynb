{
 "cells": [
  {
   "cell_type": "code",
   "execution_count": null,
   "id": "7fbb9f23",
   "metadata": {},
   "outputs": [],
   "source": [
    "import numpy as np\n",
    "import pandas as pd\n",
    "import cv2\n",
    "import matplotlib.pyplot as plt\n",
    "import tensorflow as tf\n",
    "from matplotlib.patches import Rectangle\n",
    "from sklearn.model_selection import StratifiedGroupKFold\n",
    "from tqdm import tqdm\n",
    "import imgaug.augmenters as iaa"
   ]
  },
  {
   "cell_type": "code",
   "execution_count": null,
   "id": "dac4f46b",
   "metadata": {},
   "outputs": [],
   "source": [
    "def rle_decode(mask_rle, shape):\n",
    "    s = np.asarray(mask_rle.split(), dtype=int)\n",
    "    starts = s[0::2] - 1\n",
    "    lengths = s[1::2]\n",
    "    ends = starts + lengths\n",
    "    img = np.zeros(shape[0]*shape[1], dtype=np.uint8)\n",
    "    for lo, hi in zip(starts, ends):\n",
    "        img[lo:hi] = 1\n",
    "    return img.reshape(shape) "
   ]
  },
  {
   "cell_type": "code",
   "execution_count": null,
   "id": "7252eca2",
   "metadata": {},
   "outputs": [],
   "source": [
    "def get_metadata(row):\n",
    "    data = row['id'].split('_')\n",
    "    case = int(data[0].replace('case',''))\n",
    "    day = int(data[1].replace('day',''))\n",
    "    slice_ = int(data[-1])\n",
    "    row['case'] = case\n",
    "    row['day'] = day\n",
    "    row['slice'] = slice_\n",
    "    return row\n"
   ]
  },
  {
   "cell_type": "code",
   "execution_count": null,
   "id": "baae49e7",
   "metadata": {},
   "outputs": [],
   "source": [
    "def path2info(row):\n",
    "    path = row['image_path']\n",
    "    data = path.split('/')\n",
    "    slice_ = int(data[-1].split('_')[1])\n",
    "    case = int(data[-3].split('_')[0].replace('case',''))\n",
    "    day = int(data[-3].split('_')[1].replace('day',''))\n",
    "    width = int(data[-1].split('_')[2])\n",
    "    height = int(data[-1].split('_')[3])\n",
    "    row['height'] = height\n",
    "    row['width'] = width\n",
    "    row['case'] = case\n",
    "    row['day'] = day\n",
    "    row['slice'] = slice_\n",
    "    return row"
   ]
  },
  {
   "cell_type": "code",
   "execution_count": null,
   "id": "58a82f22",
   "metadata": {},
   "outputs": [],
   "source": [
    "def id2mask(id_):\n",
    "    idf = df[df['id']==id_]\n",
    "    shape = (idf.height.item(), idf.width.item(), 3)\n",
    "    mask = np.zeros(shape, dtype=np.uint8)\n",
    "    rles = idf.segmentation.squeeze()\n",
    "    for i, rle in enumerate(rles):\n",
    "        if not pd.isna(rle):\n",
    "            mask[..., i] = rle_decode(rle, shape[:2])\n",
    "    return mask"
   ]
  },
  {
   "cell_type": "code",
   "execution_count": null,
   "id": "83500ed9",
   "metadata": {},
   "outputs": [],
   "source": [
    "def rgb2gray(mask):\n",
    "    pad_mask = np.pad(mask, pad_width=[(0,0),(0,0),(1,0)])\n",
    "    gray_mask = pad_mask.argmax(-1)\n",
    "    return gray_mask\n",
    "\n",
    "def gray2rgb(mask):\n",
    "    rgb_mask = tf.keras.utils.to_categorical(mask, num_classes=4)\n",
    "    return rgb_mask[..., 1:].astype(mask.dtype)"
   ]
  },
  {
   "cell_type": "code",
   "execution_count": null,
   "id": "f57d07b0",
   "metadata": {},
   "outputs": [],
   "source": [
    "def load_img(path, size=IMAGE_SIZE):\n",
    "    img = cv2.imread(path, cv2.IMREAD_UNCHANGED)\n",
    "    if size is not None:\n",
    "        img = cv2.resize(img, dsize=IMAGE_SIZE, interpolation=cv2.INTER_NEAREST)\n",
    "    return img\n",
    "\n",
    "def load_imgs(img_paths):\n",
    "    imgs = [None]*3\n",
    "    for i, img_path in enumerate(img_paths):\n",
    "        img = load_img(img_path)\n",
    "        imgs[i] = img\n",
    "    return np.stack(imgs,axis=-1)"
   ]
  },
  {
   "cell_type": "code",
   "execution_count": null,
   "id": "445f2b36",
   "metadata": {},
   "outputs": [],
   "source": [
    "def show_img(img, mask=None):\n",
    "    plt.imshow(img, cmap='bone')\n",
    "    if mask is not None:\n",
    "        plt.imshow(mask, alpha=0.5)\n",
    "        handles = [Rectangle((0,0),1,1, color=_c) for _c in [(0.667,0.0,0.0), (0.0,0.667,0.0), (0.0,0.0,0.667)]]\n",
    "        labels = [ \"Large Bowel\", \"Small Bowel\", \"Stomach\"]\n",
    "        plt.legend(handles,labels)\n",
    "    plt.axis('off')"
   ]
  },
  {
   "cell_type": "code",
   "execution_count": null,
   "id": "fe007797",
   "metadata": {},
   "outputs": [],
   "source": [
    "# Load CSV file\n",
    "df = pd.read_csv('../input/uwmgi-mask-dataset/train.csv')\n",
    "df['segmentation'] = df.segmentation.fillna('')\n",
    "df['rle_len'] = df.segmentation.map(len)"
   ]
  },
  {
   "cell_type": "code",
   "execution_count": null,
   "id": "b9b8d96c",
   "metadata": {},
   "outputs": [],
   "source": [
    "# Grouping and preprocessing\n",
    "df2 = df.groupby(['id'])['segmentation'].agg(list).to_frame().reset_index()\n",
    "df2 = df2.merge(df.groupby(['id'])['rle_len'].agg(sum).to_frame().reset_index())\n",
    "df = df.drop(columns=['segmentation', 'class', 'rle_len'])\n",
    "df = df.groupby(['id']).head(1).reset_index(drop=True)\n",
    "df = df.merge(df2, on=['id'])\n",
    "df['empty'] = (df.rle_len==0)\n"
   ]
  },
  {
   "cell_type": "code",
   "execution_count": null,
   "id": "236a3c1a",
   "metadata": {},
   "outputs": [],
   "source": [
    "# Creating image paths and processing folds\n",
    "for i in range(CHANNELS):\n",
    "    df[f'image_path_{i:02}'] = df.groupby(['case','day'])['image_path'].shift(-i*STRIDE).fillna(method=\"ffill\")\n",
    "df['image_paths'] = df[[f'image_path_{i:02d}' for i in range(CHANNELS)]].values.tolist()\n",
    "\n",
    "# Displaying folds\n",
    "skf = StratifiedGroupKFold(n_splits=FOLDS, shuffle=True, random_state=SEED)\n",
    "for fold, (train_idx, val_idx) in enumerate(skf.split(df, df['empty'], groups = df[\"case\"])):\n",
    "    df.loc[val_idx, 'fold'] = fold\n",
    "df.groupby(['fold','empty'])['id'].count()"
   ]
  },
  {
   "cell_type": "code",
   "execution_count": null,
   "id": "dd5c9a66",
   "metadata": {},
   "outputs": [],
   "source": [
    "# augmentations\n",
    "augmentations = iaa.Sequential([\n",
    "    iaa.ShiftScaleRotate(shift_limit=0.1, scale_limit=0.1, rotate_limit=45, p=0.5),\n",
    "    iaa.Fliplr(p=0.5),\n",
    "    iaa.Jitter(p=0.5)\n",
    "])\n",
    "\n",
    "for fold in tqdm(folds):\n",
    "    fold_df = df.query(\"fold==@fold\")\n",
    "    if show:\n",
    "        print(); print('Processing data for fold %i :' % fold)  \n",
    "   \n",
    "    samples = fold_df.shape[0]\n",
    "    it = tqdm(range(samples)) if show else range(samples)\n",
    "    for k in it:\n",
    "        row = fold_df.iloc[k,:]\n",
    "        image = load_imgs(row['image_paths'])\n",
    "        image_id = row['id']\n",
    "        mask = id2mask(image_id) * 255\n",
    "        \n",
    "        image_with_mask = np.concatenate([image, mask], axis=-1)\n",
    "       \n",
    "        augmented_image_with_mask = augmentations(images=image_with_mask)\n"
   ]
  },
  {
   "cell_type": "code",
   "execution_count": null,
   "id": "c2924254",
   "metadata": {},
   "outputs": [],
   "source": []
  }
 ],
 "metadata": {
  "kernelspec": {
   "display_name": "Python 3 (ipykernel)",
   "language": "python",
   "name": "python3"
  },
  "language_info": {
   "codemirror_mode": {
    "name": "ipython",
    "version": 3
   },
   "file_extension": ".py",
   "mimetype": "text/x-python",
   "name": "python",
   "nbconvert_exporter": "python",
   "pygments_lexer": "ipython3",
   "version": "3.11.4"
  }
 },
 "nbformat": 4,
 "nbformat_minor": 5
}
